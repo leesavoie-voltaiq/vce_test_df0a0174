{
 "cells": [
  {
   "cell_type": "code",
   "execution_count": 2,
   "id": "fbc2b531",
   "metadata": {},
   "outputs": [
    {
     "data": {
      "text/plain": [
       "1"
      ]
     },
     "execution_count": 2,
     "metadata": {},
     "output_type": "execute_result"
    }
   ],
   "source": [
    "import voltaiq_studio as vs\n",
    "len(vs.get_test_records())"
   ]
  },
  {
   "cell_type": "code",
   "execution_count": null,
   "id": "011c06fc-e877-452e-aa24-d7547a55fce0",
   "metadata": {},
   "outputs": [],
   "source": []
  }
 ],
 "metadata": {
  "kernelspec": {
   "display_name": "Python 3 (ipykernel)",
   "language": "python",
   "name": "python3"
  },
  "language_info": {
   "codemirror_mode": {
    "name": "ipython",
    "version": 3
   },
   "file_extension": ".py",
   "mimetype": "text/x-python",
   "name": "python",
   "nbconvert_exporter": "python",
   "pygments_lexer": "ipython3",
   "version": "3.9.6"
  }
 },
 "nbformat": 4,
 "nbformat_minor": 5
}
