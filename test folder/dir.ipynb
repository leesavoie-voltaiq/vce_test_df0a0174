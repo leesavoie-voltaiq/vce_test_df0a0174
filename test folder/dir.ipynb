{
 "cells": [
  {
   "cell_type": "code",
   "execution_count": 1,
   "id": "46e0a2fc-5894-4d8a-88ff-ee46f2693c42",
   "metadata": {},
   "outputs": [
    {
     "name": "stdout",
     "output_type": "stream",
     "text": [
      "hello dir\n"
     ]
    }
   ],
   "source": [
    "print(\"hello dir\")"
   ]
  },
  {
   "cell_type": "code",
   "execution_count": null,
   "id": "d9b7a3bc-609b-4909-a598-8558b0e58262",
   "metadata": {},
   "outputs": [],
   "source": []
  }
 ],
 "metadata": {
  "kernelspec": {
   "display_name": "Python 3 (ipykernel)",
   "language": "python",
   "name": "python3"
  },
  "language_info": {
   "codemirror_mode": {
    "name": "ipython",
    "version": 3
   },
   "file_extension": ".py",
   "mimetype": "text/x-python",
   "name": "python",
   "nbconvert_exporter": "python",
   "pygments_lexer": "ipython3",
   "version": "3.9.6"
  }
 },
 "nbformat": 4,
 "nbformat_minor": 5
}
